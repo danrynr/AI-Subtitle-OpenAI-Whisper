{
  "cells": [
    {
      "cell_type": "markdown",
      "metadata": {
        "id": "8EFd0fo_RPA_"
      },
      "source": [
        "\n",
        "\n",
        "> Script made by biscuits. Github: https://github.com/danrynr\n",
        "\n"
      ]
    },
    {
      "cell_type": "markdown",
      "metadata": {
        "id": "vDS7zv3MRE1a"
      },
      "source": [
        "# Install Whisper and it's dependencies"
      ]
    },
    {
      "cell_type": "code",
      "source": [
        "!sudo apt update && sudo apt upgrade"
      ],
      "metadata": {
        "id": "iG0IBWJzLq9A",
        "collapsed": true
      },
      "execution_count": null,
      "outputs": []
    },
    {
      "cell_type": "code",
      "execution_count": null,
      "metadata": {
        "id": "Eo8AuSwO2GWK",
        "collapsed": true
      },
      "outputs": [],
      "source": [
        "!sudo apt update && sudo apt install ffmpeg libcublas11 && pip install git+https://github.com/openai/whisper.git whisper-ctranslate2==0.4.8 ctranslate2==4.4.0 faster-whisper==1.1.0"
      ]
    },
    {
      "cell_type": "markdown",
      "metadata": {
        "id": "v5yhFeWeIMSw"
      },
      "source": [
        "# Create AI Subtitle"
      ]
    },
    {
      "cell_type": "markdown",
      "metadata": {
        "id": "L1cLg0p2-CTC"
      },
      "source": [
        "### Command Help"
      ]
    },
    {
      "cell_type": "code",
      "execution_count": null,
      "metadata": {
        "id": "TWrksEpb9zk3"
      },
      "outputs": [],
      "source": [
        "!whisper --help"
      ]
    },
    {
      "cell_type": "code",
      "execution_count": null,
      "metadata": {
        "id": "qFP4zigpPbSJ"
      },
      "outputs": [],
      "source": [
        "!whisper-ctranslate2 --help"
      ]
    },
    {
      "cell_type": "markdown",
      "metadata": {
        "id": "8ebz2QxL-G6M"
      },
      "source": [
        "### Transcribe & make subtitles"
      ]
    },
    {
      "cell_type": "code",
      "execution_count": null,
      "metadata": {
        "id": "vFNlwoTYPPzV"
      },
      "outputs": [],
      "source": [
        "import os\n",
        "\n",
        "single_input = \"\" #@param {type:\"string\"}\n",
        "input_dir = \"/content/drive/MyDrive/SUBS/AUDIO\" #@param {type:\"string\"}\n",
        "inputs = os.listdir(input_dir)\n",
        "output_dir = \"/content/drive/MyDrive/SUBS/SUBFILES\" #@param {type:\"string\"}\n",
        "outputs = os.listdir(output_dir)\n",
        "\n",
        "model = \"large-v2\" #@param [\"large-v3-turbo\", \"large-v3\", \"large-v2\"]\n",
        "threads = \"16\" #@param [\"0\", \"2\", \"4\", \"8\", \"16\"]\n",
        "condition_on_previous_text = \"False\" #@param [\"True\", \"False\"]\n",
        "no_repeat_ngram_size = \"3\" #@param {type:\"string\"}\n",
        "vad_threshold = 0.4 #@param {type:\"slider\", min:0, max:1, step:0.025}\n",
        "vad_threshold = int(vad_threshold)\n",
        "vad_max_speech_duration_s = \"7\" #@param {type:\"string\"}\n",
        "language = \"ko\" #@param [\"ko\", \"ja\"] {allow-input:true}\n",
        "output_format = \"srt\" #@param [\"txt\", \"vtt\", \"srt\", \"tsv\", \"json\"]\n",
        "verbose = True #@param {type:\"boolean\"}\n",
        "print_colors = False #@param {type:\"boolean\"}\n",
        "\n",
        "\n",
        "def whisper_run(file_path, output_dir):\n",
        "  sub_file_name = os.path.splitext(\n",
        "      os.path.basename(file_path))[0] + '.' + output_format\n",
        "  print(f\"Creating Subtitle: {sub_file_name}\")\n",
        "\n",
        "  if os.path.isfile(os.path.join(output_dir, sub_file_name)):\n",
        "    print(f\"Subtitle for {file_path} already exists!\")\n",
        "  else:\n",
        "    !whisper-ctranslate2 \\\n",
        "    --model \"$model\" \\\n",
        "    --threads \"$threads\" \\\n",
        "    --language \"$language\" \\\n",
        "    --condition_on_previous_text \"$condition_on_previous_text\" \\\n",
        "    --no_repeat_ngram_size \"$no_repeat_ngram_size\" \\\n",
        "    --vad_filter true \\\n",
        "    --vad_threshold \"$vad_threshold\" \\\n",
        "    --vad_max_speech_duration_s \"$vad_max_speech_duration_s\" \\\n",
        "    --output_format \"$output_format\" \\\n",
        "    --task translate \"$file_path\" \\\n",
        "    --output_dir \"$output_dir\" \\\n",
        "    --verbose \"$verbose\" \\\n",
        "    --print_colors \"$print_colors\"\n",
        "\n",
        "if len(single_input) > 0 and single_input is not None:\n",
        "  whisper_run(single_input, output_dir)\n",
        "  pass\n",
        "else:\n",
        "  inputs = [x for x in inputs if '.ipynb_checkpoints' not in x]\n",
        "  outputs = [x for x in outputs if '.ipynb_checkpoints' not in x]\n",
        "\n",
        "  print(f\"Total Audio to subs: {len(inputs)}\")\n",
        "  print(f\"Total srt files in folder: {len(outputs)}\")\n",
        "\n",
        "  for input_file in inputs:\n",
        "    if input_file.startswith('.'): continue\n",
        "\n",
        "    file_path = os.path.join(input_dir, input_file)\n",
        "    whisper_run(file_path, output_dir)"
      ]
    },
    {
      "cell_type": "markdown",
      "metadata": {
        "id": "EixzZRcHIQdh"
      },
      "source": [
        "# Download Subtitle"
      ]
    },
    {
      "cell_type": "code",
      "execution_count": null,
      "metadata": {
        "id": "Um9fqTwtC9uE"
      },
      "outputs": [],
      "source": [
        "import os\n",
        "import shutil\n",
        "import datetime\n",
        "\n",
        "sub_dir = \"/content/drive/MyDrive/SUBS/SUBFILES\"\n",
        "zip_dir = \"/content/drive/MyDrive/SUBS/ZIP\"\n",
        "\n",
        "zip_name = os.path.join(zip_dir,\n",
        "f\"{datetime.datetime.now().strftime('%y%m%d_%H%M')}_subtitles_biscuits\")\n",
        "\n",
        "os.makedirs(zip_dir, exist_ok=True)\n",
        "\n",
        "shutil.make_archive(zip_name, 'zip', sub_dir)"
      ]
    }
  ],
  "metadata": {
    "colab": {
      "gpuType": "T4",
      "provenance": [],
      "collapsed_sections": [
        "L1cLg0p2-CTC"
      ]
    },
    "kernelspec": {
      "display_name": "Python 3",
      "name": "python3"
    },
    "language_info": {
      "name": "python"
    },
    "accelerator": "GPU"
  },
  "nbformat": 4,
  "nbformat_minor": 0
}
